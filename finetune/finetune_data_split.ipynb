{
 "cells": [
  {
   "cell_type": "code",
   "execution_count": 21,
   "metadata": {},
   "outputs": [],
   "source": [
    "import numpy as np\n",
    "import pandas as pd \n",
    "import random\n",
    "import matplotlib.pyplot as plt\n",
    "%matplotlib inline"
   ]
  },
  {
   "cell_type": "code",
   "execution_count": 44,
   "metadata": {},
   "outputs": [],
   "source": [
    "# file_path='/Users/gengyunxin/Documents/项目/traffic_model/test/data/normalized_pretrain_data_72.csv'\n",
    "# file_path='/Users/gengyunxin/Documents/项目/traffic_model/test/data/processed_finetune_seattle_96.csv'\n",
    "# file_path='/Users/gengyunxin/Documents/项目/traffic_model/giteee/data/normed_finetune_predict_pems_144.csv'\n",
    "# file_path='/Users/gengyunxin/Documents/项目/traffic_model/giteee/data/finetune_predict_pems_144.csv'\n",
    "# '/Users/gengyunxin/Documents/项目/traffic_model/giteee/data/finetune_predict_pems_294_smoothed.csv'\n",
    "file_path=‘"
   ]
  },
  {
   "cell_type": "code",
   "execution_count": 45,
   "metadata": {},
   "outputs": [],
   "source": [
    "np.random.seed(123)"
   ]
  },
  {
   "cell_type": "code",
   "execution_count": 46,
   "metadata": {},
   "outputs": [
    {
     "data": {
      "text/plain": [
       "(49999, 294)"
      ]
     },
     "execution_count": 46,
     "metadata": {},
     "output_type": "execute_result"
    }
   ],
   "source": [
    "df = pd.read_csv(file_path).values # (4367, 73)\n",
    "df.shape"
   ]
  },
  {
   "cell_type": "code",
   "execution_count": 47,
   "metadata": {},
   "outputs": [
    {
     "data": {
      "text/plain": [
       "174.81127466084675"
      ]
     },
     "execution_count": 47,
     "metadata": {},
     "output_type": "execute_result"
    }
   ],
   "source": [
    "df.max()"
   ]
  },
  {
   "cell_type": "code",
   "execution_count": 48,
   "metadata": {},
   "outputs": [
    {
     "data": {
      "text/plain": [
       "5.327913921763501e-05"
      ]
     },
     "execution_count": 48,
     "metadata": {},
     "output_type": "execute_result"
    }
   ],
   "source": [
    "df.min()"
   ]
  },
  {
   "cell_type": "code",
   "execution_count": 49,
   "metadata": {},
   "outputs": [],
   "source": [
    "num_data = df.shape[0]\n",
    "indices = list(range(num_data))\n",
    "# np.random.shuffle(indices)"
   ]
  },
  {
   "cell_type": "code",
   "execution_count": 50,
   "metadata": {},
   "outputs": [
    {
     "data": {
      "text/plain": [
       "4999"
      ]
     },
     "execution_count": 50,
     "metadata": {},
     "output_type": "execute_result"
    }
   ],
   "source": [
    "ratio = 0.1\n",
    "split = int(np.floor(ratio * num_data))\n",
    "split"
   ]
  },
  {
   "cell_type": "code",
   "execution_count": 51,
   "metadata": {},
   "outputs": [
    {
     "data": {
      "text/plain": [
       "30003"
      ]
     },
     "execution_count": 51,
     "metadata": {},
     "output_type": "execute_result"
    }
   ],
   "source": [
    "valid_idx, test_idx, train_idx = indices[:split*3], indices[split*3:split*4], indices[split*4:]\n",
    "len(train_idx)"
   ]
  },
  {
   "cell_type": "code",
   "execution_count": 52,
   "metadata": {},
   "outputs": [
    {
     "data": {
      "text/plain": [
       "14997"
      ]
     },
     "execution_count": 52,
     "metadata": {},
     "output_type": "execute_result"
    }
   ],
   "source": [
    "len(valid_idx)"
   ]
  },
  {
   "cell_type": "code",
   "execution_count": 53,
   "metadata": {},
   "outputs": [
    {
     "data": {
      "text/plain": [
       "4999"
      ]
     },
     "execution_count": 53,
     "metadata": {},
     "output_type": "execute_result"
    }
   ],
   "source": [
    "len(test_idx)"
   ]
  },
  {
   "cell_type": "code",
   "execution_count": 54,
   "metadata": {},
   "outputs": [],
   "source": [
    "train, valid, test = [], [], []\n",
    "for index in indices:\n",
    "    if index in train_idx:\n",
    "        train.append(list(df[index]))\n",
    "    if index in valid_idx:\n",
    "        valid.append(list(df[index]))\n",
    "    if index in test_idx:\n",
    "        test.append(list(df[index]))"
   ]
  },
  {
   "cell_type": "code",
   "execution_count": 55,
   "metadata": {},
   "outputs": [],
   "source": [
    "train_df = pd.DataFrame(train)\n",
    "valid_df = pd.DataFrame(valid)\n",
    "test_df = pd.DataFrame(test)"
   ]
  },
  {
   "cell_type": "code",
   "execution_count": 69,
   "metadata": {},
   "outputs": [
    {
     "data": {
      "text/plain": [
       "(4999, 294)"
      ]
     },
     "execution_count": 69,
     "metadata": {},
     "output_type": "execute_result"
    }
   ],
   "source": [
    "test_df.shape"
   ]
  },
  {
   "cell_type": "code",
   "execution_count": 56,
   "metadata": {},
   "outputs": [
    {
     "data": {
      "text/plain": [
       "174.81127466084675"
      ]
     },
     "execution_count": 56,
     "metadata": {},
     "output_type": "execute_result"
    }
   ],
   "source": [
    "train_df.values.max()"
   ]
  },
  {
   "cell_type": "code",
   "execution_count": 57,
   "metadata": {},
   "outputs": [
    {
     "data": {
      "text/plain": [
       "0.01271508175459342"
      ]
     },
     "execution_count": 57,
     "metadata": {},
     "output_type": "execute_result"
    }
   ],
   "source": [
    "train_df.values.min()"
   ]
  },
  {
   "cell_type": "code",
   "execution_count": 58,
   "metadata": {},
   "outputs": [
    {
     "data": {
      "text/plain": [
       "94.00452285573084"
      ]
     },
     "execution_count": 58,
     "metadata": {},
     "output_type": "execute_result"
    }
   ],
   "source": [
    "valid_df.values.max()"
   ]
  },
  {
   "cell_type": "code",
   "execution_count": 59,
   "metadata": {},
   "outputs": [
    {
     "data": {
      "text/plain": [
       "100.13893517606384"
      ]
     },
     "execution_count": 59,
     "metadata": {},
     "output_type": "execute_result"
    }
   ],
   "source": [
    "test_df.values.max()"
   ]
  },
  {
   "cell_type": "code",
   "execution_count": 60,
   "metadata": {},
   "outputs": [
    {
     "data": {
      "text/plain": [
       "5.327913921763501e-05"
      ]
     },
     "execution_count": 60,
     "metadata": {},
     "output_type": "execute_result"
    }
   ],
   "source": [
    "test_df.values.min()"
   ]
  },
  {
   "cell_type": "code",
   "execution_count": 35,
   "metadata": {},
   "outputs": [],
   "source": [
    "# train_df.to_csv('/Users/gengyunxin/Documents/项目/traffic_model/test/data/ff_train_96.csv', index=0, header=0)\n",
    "# valid_df.to_csv('/Users/gengyunxin/Documents/项目/traffic_model/test/data/ff_valid_96.csv', index=0, header=0)\n",
    "# test_df.to_csv('/Users/gengyunxin/Documents/项目/traffic_model/test/data/ff_test_96.csv', index=0, header=0)\n",
    "train_df.to_csv('/Users/gengyunxin/Documents/项目/traffic_model/giteee/data/train300smoothed.csv', index=0, header=0)\n",
    "valid_df.to_csv('/Users/gengyunxin/Documents/项目/traffic_model/giteee//data/valid300smoothed.csv', index=0, header=0)\n",
    "test_df.to_csv('/Users/gengyunxin/Documents/项目/traffic_model/giteee/data/test300smoothed.csv', index=0, header=0)"
   ]
  },
  {
   "cell_type": "code",
   "execution_count": null,
   "metadata": {},
   "outputs": [],
   "source": [
    "1000/32"
   ]
  },
  {
   "cell_type": "code",
   "execution_count": 74,
   "metadata": {},
   "outputs": [
    {
     "data": {
      "text/plain": [
       "<AxesSubplot:>"
      ]
     },
     "execution_count": 74,
     "metadata": {},
     "output_type": "execute_result"
    },
    {
     "data": {
      "image/png": "[encoded data removed]",
      "text/plain": [
       "<Figure size 432x288 with 1 Axes>"
      ]
     },
     "metadata": {
      "needs_background": "light"
     },
     "output_type": "display_data"
    }
   ],
   "source": [
    "test_df.shape\n",
    "test_df.iloc[0,:288].plot() # 294"
   ]
  },
  {
   "cell_type": "code",
   "execution_count": 80,
   "metadata": {},
   "outputs": [
    {
     "data": {
      "text/plain": [
       "<AxesSubplot:>"
      ]
     },
     "execution_count": 80,
     "metadata": {},
     "output_type": "execute_result"
    },
    {
     "data": {
      "image/png": "[encoded data removed]",
      "text/plain": [
       "<Figure size 432x288 with 1 Axes>"
      ]
     },
     "metadata": {
      "needs_background": "light"
     },
     "output_type": "display_data"
    }
   ],
   "source": [
    "test_df.iloc[2,:288].plot() # 289"
   ]
  },
  {
   "cell_type": "code",
   "execution_count": 83,
   "metadata": {},
   "outputs": [
    {
     "data": {
      "text/plain": [
       "<AxesSubplot:>"
      ]
     },
     "execution_count": 83,
     "metadata": {},
     "output_type": "execute_result"
    },
    {
     "data": {
      "image/png": "[encoded data removed]",
      "text/plain": [
       "<Figure size 432x288 with 1 Axes>"
      ]
     },
     "metadata": {
      "needs_background": "light"
     },
     "output_type": "display_data"
    }
   ],
   "source": [
    "test_df.iloc[1].plot() # 300"
   ]
  },
  {
   "cell_type": "code",
   "execution_count": 62,
   "metadata": {},
   "outputs": [],
   "source": [
    "test = pd.read_csv('/Users/gengyunxin/Documents/项目/traffic_model/giteee/data/test300smoothed.csv')"
   ]
  },
  {
   "cell_type": "code",
   "execution_count": 66,
   "metadata": {},
   "outputs": [
    {
     "data": {
      "text/html": [
       "<div>\n",
       "<style scoped>\n",
       "    .dataframe tbody tr th:only-of-type {\n",
       "        vertical-align: middle;\n",
       "    }\n",
       "\n",
       "    .dataframe tbody tr th {\n",
       "        vertical-align: top;\n",
       "    }\n",
       "\n",
       "    .dataframe thead th {\n",
       "        text-align: right;\n",
       "    }\n",
       "</style>\n",
       "<table border=\"1\" class=\"dataframe\">\n",
       "  <thead>\n",
       "    <tr style=\"text-align: right;\">\n",
       "      <th></th>\n",
       "      <th>61.31542998857875</th>\n",
       "      <th>60.262858323815635</th>\n",
       "      <th>59.55238193651302</th>\n",
       "      <th>60.126984947094186</th>\n",
       "      <th>59.272487455911815</th>\n",
       "      <th>59.06040621325985</th>\n",
       "      <th>58.38367184438321</th>\n",
       "      <th>56.653059870319346</th>\n",
       "      <th>55.210883225266116</th>\n",
       "      <th>56.00906935438843</th>\n",
       "      <th>...</th>\n",
       "      <th>67.31409529689007</th>\n",
       "      <th>64.92841274740839</th>\n",
       "      <th>64.94034395617366</th>\n",
       "      <th>64.11695329681139</th>\n",
       "      <th>60.9307944140095</th>\n",
       "      <th>60.44232867834125</th>\n",
       "      <th>60.36860723195104</th>\n",
       "      <th>57.80717269329253</th>\n",
       "      <th>57.50597724441046</th>\n",
       "      <th>55.92164770367538</th>\n",
       "    </tr>\n",
       "  </thead>\n",
       "  <tbody>\n",
       "    <tr>\n",
       "      <th>count</th>\n",
       "      <td>4998.000000</td>\n",
       "      <td>4998.000000</td>\n",
       "      <td>4998.000000</td>\n",
       "      <td>4998.000000</td>\n",
       "      <td>4998.000000</td>\n",
       "      <td>4998.000000</td>\n",
       "      <td>4998.000000</td>\n",
       "      <td>4998.000000</td>\n",
       "      <td>4998.000000</td>\n",
       "      <td>4998.000000</td>\n",
       "      <td>...</td>\n",
       "      <td>4998.000000</td>\n",
       "      <td>4998.000000</td>\n",
       "      <td>4998.000000</td>\n",
       "      <td>4998.000000</td>\n",
       "      <td>4998.000000</td>\n",
       "      <td>4998.000000</td>\n",
       "      <td>4998.000000</td>\n",
       "      <td>4998.000000</td>\n",
       "      <td>4998.000000</td>\n",
       "      <td>4998.000000</td>\n",
       "    </tr>\n",
       "    <tr>\n",
       "      <th>mean</th>\n",
       "      <td>54.454721</td>\n",
       "      <td>54.440535</td>\n",
       "      <td>54.562414</td>\n",
       "      <td>54.659888</td>\n",
       "      <td>54.666102</td>\n",
       "      <td>54.634711</td>\n",
       "      <td>54.554643</td>\n",
       "      <td>54.553143</td>\n",
       "      <td>54.634570</td>\n",
       "      <td>54.758877</td>\n",
       "      <td>...</td>\n",
       "      <td>54.540657</td>\n",
       "      <td>54.638756</td>\n",
       "      <td>54.642141</td>\n",
       "      <td>54.609781</td>\n",
       "      <td>54.527325</td>\n",
       "      <td>54.527673</td>\n",
       "      <td>54.609128</td>\n",
       "      <td>54.737332</td>\n",
       "      <td>54.759168</td>\n",
       "      <td>54.645912</td>\n",
       "    </tr>\n",
       "    <tr>\n",
       "      <th>std</th>\n",
       "      <td>32.089802</td>\n",
       "      <td>32.127740</td>\n",
       "      <td>32.270705</td>\n",
       "      <td>32.359420</td>\n",
       "      <td>32.329106</td>\n",
       "      <td>32.285818</td>\n",
       "      <td>32.188586</td>\n",
       "      <td>32.159419</td>\n",
       "      <td>32.187253</td>\n",
       "      <td>32.278698</td>\n",
       "      <td>...</td>\n",
       "      <td>32.280292</td>\n",
       "      <td>32.370289</td>\n",
       "      <td>32.339287</td>\n",
       "      <td>32.294627</td>\n",
       "      <td>32.195682</td>\n",
       "      <td>32.168994</td>\n",
       "      <td>32.196082</td>\n",
       "      <td>32.290602</td>\n",
       "      <td>32.312988</td>\n",
       "      <td>32.221605</td>\n",
       "    </tr>\n",
       "    <tr>\n",
       "      <th>min</th>\n",
       "      <td>9.125985</td>\n",
       "      <td>9.271654</td>\n",
       "      <td>9.226378</td>\n",
       "      <td>9.355315</td>\n",
       "      <td>9.296096</td>\n",
       "      <td>9.246747</td>\n",
       "      <td>9.205622</td>\n",
       "      <td>9.171352</td>\n",
       "      <td>9.142793</td>\n",
       "      <td>9.118994</td>\n",
       "      <td>...</td>\n",
       "      <td>9.226378</td>\n",
       "      <td>9.355315</td>\n",
       "      <td>9.296096</td>\n",
       "      <td>9.246747</td>\n",
       "      <td>9.205622</td>\n",
       "      <td>9.171352</td>\n",
       "      <td>9.142793</td>\n",
       "      <td>9.118994</td>\n",
       "      <td>9.181418</td>\n",
       "      <td>9.151182</td>\n",
       "    </tr>\n",
       "    <tr>\n",
       "      <th>25%</th>\n",
       "      <td>26.172867</td>\n",
       "      <td>26.097737</td>\n",
       "      <td>26.228945</td>\n",
       "      <td>26.303381</td>\n",
       "      <td>26.400897</td>\n",
       "      <td>26.384113</td>\n",
       "      <td>26.291536</td>\n",
       "      <td>26.195931</td>\n",
       "      <td>26.052096</td>\n",
       "      <td>25.900219</td>\n",
       "      <td>...</td>\n",
       "      <td>26.171188</td>\n",
       "      <td>26.234225</td>\n",
       "      <td>26.339510</td>\n",
       "      <td>26.324613</td>\n",
       "      <td>26.203709</td>\n",
       "      <td>26.145932</td>\n",
       "      <td>26.022937</td>\n",
       "      <td>25.848743</td>\n",
       "      <td>25.848861</td>\n",
       "      <td>25.997429</td>\n",
       "    </tr>\n",
       "    <tr>\n",
       "      <th>50%</th>\n",
       "      <td>47.394001</td>\n",
       "      <td>47.345494</td>\n",
       "      <td>47.416959</td>\n",
       "      <td>47.479390</td>\n",
       "      <td>47.504411</td>\n",
       "      <td>47.480848</td>\n",
       "      <td>47.517509</td>\n",
       "      <td>47.475654</td>\n",
       "      <td>47.527114</td>\n",
       "      <td>47.519568</td>\n",
       "      <td>...</td>\n",
       "      <td>47.416042</td>\n",
       "      <td>47.464713</td>\n",
       "      <td>47.494915</td>\n",
       "      <td>47.477324</td>\n",
       "      <td>47.505709</td>\n",
       "      <td>47.464868</td>\n",
       "      <td>47.522542</td>\n",
       "      <td>47.514633</td>\n",
       "      <td>47.534608</td>\n",
       "      <td>47.498020</td>\n",
       "    </tr>\n",
       "    <tr>\n",
       "      <th>75%</th>\n",
       "      <td>85.149525</td>\n",
       "      <td>85.095057</td>\n",
       "      <td>85.392718</td>\n",
       "      <td>85.444853</td>\n",
       "      <td>85.229226</td>\n",
       "      <td>84.984445</td>\n",
       "      <td>84.649662</td>\n",
       "      <td>84.922572</td>\n",
       "      <td>85.174600</td>\n",
       "      <td>85.316185</td>\n",
       "      <td>...</td>\n",
       "      <td>85.392718</td>\n",
       "      <td>85.444853</td>\n",
       "      <td>85.229226</td>\n",
       "      <td>84.984445</td>\n",
       "      <td>84.655502</td>\n",
       "      <td>84.959254</td>\n",
       "      <td>85.194778</td>\n",
       "      <td>85.316185</td>\n",
       "      <td>85.647537</td>\n",
       "      <td>85.555695</td>\n",
       "    </tr>\n",
       "    <tr>\n",
       "      <th>max</th>\n",
       "      <td>142.500406</td>\n",
       "      <td>143.250339</td>\n",
       "      <td>143.141518</td>\n",
       "      <td>140.713023</td>\n",
       "      <td>143.454418</td>\n",
       "      <td>147.378682</td>\n",
       "      <td>143.648901</td>\n",
       "      <td>143.874085</td>\n",
       "      <td>143.228404</td>\n",
       "      <td>140.857003</td>\n",
       "      <td>...</td>\n",
       "      <td>143.141518</td>\n",
       "      <td>140.713023</td>\n",
       "      <td>143.454418</td>\n",
       "      <td>147.378682</td>\n",
       "      <td>143.648901</td>\n",
       "      <td>143.874085</td>\n",
       "      <td>143.228404</td>\n",
       "      <td>140.857003</td>\n",
       "      <td>142.714169</td>\n",
       "      <td>141.000488</td>\n",
       "    </tr>\n",
       "  </tbody>\n",
       "</table>\n",
       "<p>8 rows × 300 columns</p>\n",
       "</div>"
      ],
      "text/plain": [
       "       61.31542998857875  60.262858323815635  59.55238193651302  \\\n",
       "count        4998.000000         4998.000000        4998.000000   \n",
       "mean           54.454721           54.440535          54.562414   \n",
       "std            32.089802           32.127740          32.270705   \n",
       "min             9.125985            9.271654           9.226378   \n",
       "25%            26.172867           26.097737          26.228945   \n",
       "50%            47.394001           47.345494          47.416959   \n",
       "75%            85.149525           85.095057          85.392718   \n",
       "max           142.500406          143.250339         143.141518   \n",
       "\n",
       "       60.126984947094186  59.272487455911815  59.06040621325985  \\\n",
       "count         4998.000000         4998.000000        4998.000000   \n",
       "mean            54.659888           54.666102          54.634711   \n",
       "std             32.359420           32.329106          32.285818   \n",
       "min              9.355315            9.296096           9.246747   \n",
       "25%             26.303381           26.400897          26.384113   \n",
       "50%             47.479390           47.504411          47.480848   \n",
       "75%             85.444853           85.229226          84.984445   \n",
       "max            140.713023          143.454418         147.378682   \n",
       "\n",
       "       58.38367184438321  56.653059870319346  55.210883225266116  \\\n",
       "count        4998.000000         4998.000000         4998.000000   \n",
       "mean           54.554643           54.553143           54.634570   \n",
       "std            32.188586           32.159419           32.187253   \n",
       "min             9.205622            9.171352            9.142793   \n",
       "25%            26.291536           26.195931           26.052096   \n",
       "50%            47.517509           47.475654           47.527114   \n",
       "75%            84.649662           84.922572           85.174600   \n",
       "max           143.648901          143.874085          143.228404   \n",
       "\n",
       "       56.00906935438843  ...  67.31409529689007  64.92841274740839  \\\n",
       "count        4998.000000  ...        4998.000000        4998.000000   \n",
       "mean           54.758877  ...          54.540657          54.638756   \n",
       "std            32.278698  ...          32.280292          32.370289   \n",
       "min             9.118994  ...           9.226378           9.355315   \n",
       "25%            25.900219  ...          26.171188          26.234225   \n",
       "50%            47.519568  ...          47.416042          47.464713   \n",
       "75%            85.316185  ...          85.392718          85.444853   \n",
       "max           140.857003  ...         143.141518         140.713023   \n",
       "\n",
       "       64.94034395617366  64.11695329681139  60.9307944140095  \\\n",
       "count        4998.000000        4998.000000       4998.000000   \n",
       "mean           54.642141          54.609781         54.527325   \n",
       "std            32.339287          32.294627         32.195682   \n",
       "min             9.296096           9.246747          9.205622   \n",
       "25%            26.339510          26.324613         26.203709   \n",
       "50%            47.494915          47.477324         47.505709   \n",
       "75%            85.229226          84.984445         84.655502   \n",
       "max           143.454418         147.378682        143.648901   \n",
       "\n",
       "       60.44232867834125  60.36860723195104  57.80717269329253  \\\n",
       "count        4998.000000        4998.000000        4998.000000   \n",
       "mean           54.527673          54.609128          54.737332   \n",
       "std            32.168994          32.196082          32.290602   \n",
       "min             9.171352           9.142793           9.118994   \n",
       "25%            26.145932          26.022937          25.848743   \n",
       "50%            47.464868          47.522542          47.514633   \n",
       "75%            84.959254          85.194778          85.316185   \n",
       "max           143.874085         143.228404         140.857003   \n",
       "\n",
       "       57.50597724441046  55.92164770367538  \n",
       "count        4998.000000        4998.000000  \n",
       "mean           54.759168          54.645912  \n",
       "std            32.312988          32.221605  \n",
       "min             9.181418           9.151182  \n",
       "25%            25.848861          25.997429  \n",
       "50%            47.534608          47.498020  \n",
       "75%            85.647537          85.555695  \n",
       "max           142.714169         141.000488  \n",
       "\n",
       "[8 rows x 300 columns]"
      ]
     },
     "execution_count": 66,
     "metadata": {},
     "output_type": "execute_result"
    }
   ],
   "source": [
    "test.describe()"
   ]
  },
  {
   "cell_type": "code",
   "execution_count": null,
   "metadata": {},
   "outputs": [],
   "source": []
  }
 ],
 "metadata": {
  "kernelspec": {
   "display_name": "Python [conda env:pytorch1.6.0] *",
   "language": "python",
   "name": "conda-env-pytorch1.6.0-py"
  },
  "language_info": {
   "codemirror_mode": {
    "name": "ipython",
    "version": 3
   },
   "file_extension": ".py",
   "mimetype": "text/x-python",
   "name": "python",
   "nbconvert_exporter": "python",
   "pygments_lexer": "ipython3",
   "version": "3.7.0"
  }
 },
 "nbformat": 4,
 "nbformat_minor": 4
}
